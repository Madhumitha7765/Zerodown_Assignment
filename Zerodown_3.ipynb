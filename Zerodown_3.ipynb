{
 "cells": [
  {
   "cell_type": "code",
   "execution_count": 1,
   "metadata": {
    "id": "EFVjZGPl8PNA"
   },
   "outputs": [],
   "source": [
    "import pandas as pd\n",
    "import numpy as np\n",
    "\n",
    "import seaborn as sns\n",
    "import matplotlib.pyplot as plt"
   ]
  },
  {
   "cell_type": "code",
   "execution_count": 3,
   "metadata": {
    "id": "5JqLTleYHCpt"
   },
   "outputs": [],
   "source": [
    "df = pd.read_csv('weekly_market_2017_2022.tsv', sep='\\t')"
   ]
  },
  {
   "cell_type": "code",
   "execution_count": 4,
   "metadata": {
    "colab": {
     "base_uri": "https://localhost:8080/",
     "height": 386
    },
    "id": "8jGRWT7i8PNF",
    "outputId": "6c7c44c1-816e-4af6-cc35-67d23559a6c4"
   },
   "outputs": [
    {
     "data": {
      "text/html": [
       "<div>\n",
       "<style scoped>\n",
       "    .dataframe tbody tr th:only-of-type {\n",
       "        vertical-align: middle;\n",
       "    }\n",
       "\n",
       "    .dataframe tbody tr th {\n",
       "        vertical-align: top;\n",
       "    }\n",
       "\n",
       "    .dataframe thead th {\n",
       "        text-align: right;\n",
       "    }\n",
       "</style>\n",
       "<table border=\"1\" class=\"dataframe\">\n",
       "  <thead>\n",
       "    <tr style=\"text-align: right;\">\n",
       "      <th></th>\n",
       "      <th>region_id</th>\n",
       "      <th>region_type_id</th>\n",
       "      <th>region_name</th>\n",
       "      <th>region_type</th>\n",
       "      <th>period_begin</th>\n",
       "      <th>period_end</th>\n",
       "      <th>duration</th>\n",
       "      <th>total_homes_sold</th>\n",
       "      <th>total_homes_sold_yoy</th>\n",
       "      <th>average_homes_sold</th>\n",
       "      <th>...</th>\n",
       "      <th>average_adjustment_average_homes_sold</th>\n",
       "      <th>adjusted_average_homes_sold</th>\n",
       "      <th>average_adjustment_average_new_listings</th>\n",
       "      <th>adjusted_average_new_listings</th>\n",
       "      <th>average_adjustment_pending_sales</th>\n",
       "      <th>adjusted_pending_sales</th>\n",
       "      <th>adjusted_average_homes_delisted_yoy</th>\n",
       "      <th>adjusted_average_homes_sold_yoy</th>\n",
       "      <th>adjusted_average_new_listings_yoy</th>\n",
       "      <th>adjusted_pending_sales_yoy</th>\n",
       "    </tr>\n",
       "  </thead>\n",
       "  <tbody>\n",
       "    <tr>\n",
       "      <th>0</th>\n",
       "      <td>441</td>\n",
       "      <td>5</td>\n",
       "      <td>Brevard County, FL</td>\n",
       "      <td>county</td>\n",
       "      <td>2021-04-12</td>\n",
       "      <td>2021-04-18</td>\n",
       "      <td>1 weeks</td>\n",
       "      <td>334.0</td>\n",
       "      <td>0.629268</td>\n",
       "      <td>334.0</td>\n",
       "      <td>...</td>\n",
       "      <td>NaN</td>\n",
       "      <td>334.0</td>\n",
       "      <td>NaN</td>\n",
       "      <td>283.0</td>\n",
       "      <td>NaN</td>\n",
       "      <td>284.0</td>\n",
       "      <td>-0.512195</td>\n",
       "      <td>0.629268</td>\n",
       "      <td>0.132000</td>\n",
       "      <td>1.103704</td>\n",
       "    </tr>\n",
       "    <tr>\n",
       "      <th>1</th>\n",
       "      <td>441</td>\n",
       "      <td>5</td>\n",
       "      <td>Brevard County, FL</td>\n",
       "      <td>county</td>\n",
       "      <td>2019-03-18</td>\n",
       "      <td>2019-03-24</td>\n",
       "      <td>1 weeks</td>\n",
       "      <td>248.0</td>\n",
       "      <td>-0.057034</td>\n",
       "      <td>248.0</td>\n",
       "      <td>...</td>\n",
       "      <td>NaN</td>\n",
       "      <td>248.0</td>\n",
       "      <td>NaN</td>\n",
       "      <td>291.0</td>\n",
       "      <td>NaN</td>\n",
       "      <td>147.0</td>\n",
       "      <td>0.000000</td>\n",
       "      <td>-0.057034</td>\n",
       "      <td>-0.115502</td>\n",
       "      <td>-0.051613</td>\n",
       "    </tr>\n",
       "    <tr>\n",
       "      <th>2</th>\n",
       "      <td>682</td>\n",
       "      <td>5</td>\n",
       "      <td>Caribou County, ID</td>\n",
       "      <td>county</td>\n",
       "      <td>2017-03-13</td>\n",
       "      <td>2017-03-19</td>\n",
       "      <td>1 weeks</td>\n",
       "      <td>1.0</td>\n",
       "      <td>NaN</td>\n",
       "      <td>1.0</td>\n",
       "      <td>...</td>\n",
       "      <td>NaN</td>\n",
       "      <td>1.0</td>\n",
       "      <td>NaN</td>\n",
       "      <td>NaN</td>\n",
       "      <td>NaN</td>\n",
       "      <td>NaN</td>\n",
       "      <td>NaN</td>\n",
       "      <td>NaN</td>\n",
       "      <td>NaN</td>\n",
       "      <td>NaN</td>\n",
       "    </tr>\n",
       "    <tr>\n",
       "      <th>3</th>\n",
       "      <td>155</td>\n",
       "      <td>5</td>\n",
       "      <td>Jefferson County, AL</td>\n",
       "      <td>county</td>\n",
       "      <td>2018-03-26</td>\n",
       "      <td>2018-04-01</td>\n",
       "      <td>1 weeks</td>\n",
       "      <td>283.0</td>\n",
       "      <td>0.092664</td>\n",
       "      <td>283.0</td>\n",
       "      <td>...</td>\n",
       "      <td>NaN</td>\n",
       "      <td>283.0</td>\n",
       "      <td>NaN</td>\n",
       "      <td>216.0</td>\n",
       "      <td>NaN</td>\n",
       "      <td>182.0</td>\n",
       "      <td>-0.352941</td>\n",
       "      <td>0.092664</td>\n",
       "      <td>-0.175573</td>\n",
       "      <td>0.300000</td>\n",
       "    </tr>\n",
       "    <tr>\n",
       "      <th>4</th>\n",
       "      <td>441</td>\n",
       "      <td>5</td>\n",
       "      <td>Brevard County, FL</td>\n",
       "      <td>county</td>\n",
       "      <td>2019-07-29</td>\n",
       "      <td>2019-08-04</td>\n",
       "      <td>1 weeks</td>\n",
       "      <td>364.0</td>\n",
       "      <td>0.120000</td>\n",
       "      <td>364.0</td>\n",
       "      <td>...</td>\n",
       "      <td>NaN</td>\n",
       "      <td>364.0</td>\n",
       "      <td>NaN</td>\n",
       "      <td>296.0</td>\n",
       "      <td>NaN</td>\n",
       "      <td>219.0</td>\n",
       "      <td>0.106383</td>\n",
       "      <td>0.120000</td>\n",
       "      <td>-0.175487</td>\n",
       "      <td>0.123077</td>\n",
       "    </tr>\n",
       "  </tbody>\n",
       "</table>\n",
       "<p>5 rows × 98 columns</p>\n",
       "</div>"
      ],
      "text/plain": [
       "   region_id  region_type_id           region_name region_type period_begin  \\\n",
       "0        441               5    Brevard County, FL      county   2021-04-12   \n",
       "1        441               5    Brevard County, FL      county   2019-03-18   \n",
       "2        682               5    Caribou County, ID      county   2017-03-13   \n",
       "3        155               5  Jefferson County, AL      county   2018-03-26   \n",
       "4        441               5    Brevard County, FL      county   2019-07-29   \n",
       "\n",
       "   period_end duration  total_homes_sold  total_homes_sold_yoy  \\\n",
       "0  2021-04-18  1 weeks             334.0              0.629268   \n",
       "1  2019-03-24  1 weeks             248.0             -0.057034   \n",
       "2  2017-03-19  1 weeks               1.0                   NaN   \n",
       "3  2018-04-01  1 weeks             283.0              0.092664   \n",
       "4  2019-08-04  1 weeks             364.0              0.120000   \n",
       "\n",
       "   average_homes_sold  ...  average_adjustment_average_homes_sold  \\\n",
       "0               334.0  ...                                    NaN   \n",
       "1               248.0  ...                                    NaN   \n",
       "2                 1.0  ...                                    NaN   \n",
       "3               283.0  ...                                    NaN   \n",
       "4               364.0  ...                                    NaN   \n",
       "\n",
       "   adjusted_average_homes_sold  average_adjustment_average_new_listings  \\\n",
       "0                        334.0                                      NaN   \n",
       "1                        248.0                                      NaN   \n",
       "2                          1.0                                      NaN   \n",
       "3                        283.0                                      NaN   \n",
       "4                        364.0                                      NaN   \n",
       "\n",
       "   adjusted_average_new_listings  average_adjustment_pending_sales  \\\n",
       "0                          283.0                               NaN   \n",
       "1                          291.0                               NaN   \n",
       "2                            NaN                               NaN   \n",
       "3                          216.0                               NaN   \n",
       "4                          296.0                               NaN   \n",
       "\n",
       "   adjusted_pending_sales  adjusted_average_homes_delisted_yoy  \\\n",
       "0                   284.0                            -0.512195   \n",
       "1                   147.0                             0.000000   \n",
       "2                     NaN                                  NaN   \n",
       "3                   182.0                            -0.352941   \n",
       "4                   219.0                             0.106383   \n",
       "\n",
       "   adjusted_average_homes_sold_yoy  adjusted_average_new_listings_yoy  \\\n",
       "0                         0.629268                           0.132000   \n",
       "1                        -0.057034                          -0.115502   \n",
       "2                              NaN                                NaN   \n",
       "3                         0.092664                          -0.175573   \n",
       "4                         0.120000                          -0.175487   \n",
       "\n",
       "   adjusted_pending_sales_yoy  \n",
       "0                    1.103704  \n",
       "1                   -0.051613  \n",
       "2                         NaN  \n",
       "3                    0.300000  \n",
       "4                    0.123077  \n",
       "\n",
       "[5 rows x 98 columns]"
      ]
     },
     "execution_count": 4,
     "metadata": {},
     "output_type": "execute_result"
    }
   ],
   "source": [
    "df.head()"
   ]
  },
  {
   "cell_type": "code",
   "execution_count": 5,
   "metadata": {
    "colab": {
     "base_uri": "https://localhost:8080/"
    },
    "id": "5SPD4iBW8PNF",
    "outputId": "a839c50c-04dd-4509-cc24-2dedce0ccb95"
   },
   "outputs": [
    {
     "data": {
      "text/plain": [
       "Index(['region_id', 'region_type_id', 'region_name', 'region_type',\n",
       "       'period_begin', 'period_end', 'duration', 'total_homes_sold',\n",
       "       'total_homes_sold_yoy', 'average_homes_sold', 'average_homes_sold_yoy',\n",
       "       'total_homes_sold_with_price_drops',\n",
       "       'total_homes_sold_with_price_drops_yoy',\n",
       "       'average_homes_sold_with_price_drops',\n",
       "       'average_homes_sold_with_price_drops_yoy',\n",
       "       'percent_homes_sold_with_price_drops',\n",
       "       'percent_homes_sold_with_price_drops_yoy', 'median_sale_price',\n",
       "       'median_sale_price_yoy', 'median_sale_ppsf', 'median_sale_ppsf_yoy',\n",
       "       'median_days_to_close', 'median_days_to_close_yoy', 'price_drops',\n",
       "       'price_drops_yoy', 'percent_active_listings_with_price_drops',\n",
       "       'percent_active_listings_with_price_drops_yoy', 'pending_sales',\n",
       "       'pending_sales_yoy', 'median_pending_sqft', 'median_pending_sqft_yoy',\n",
       "       'off_market_in_two_weeks', 'off_market_in_two_weeks_yoy',\n",
       "       'off_market_in_one_week', 'off_market_in_one_week_yoy',\n",
       "       'percent_off_market_in_two_weeks',\n",
       "       'percent_off_market_in_two_weeks_yoy', 'percent_off_market_in_one_week',\n",
       "       'percent_off_market_in_one_week_yoy', 'total_new_listings',\n",
       "       'total_new_listings_yoy', 'average_new_listings',\n",
       "       'average_new_listings_yoy', 'median_new_listing_price',\n",
       "       'median_new_listing_price_yoy', 'median_new_listing_ppsf',\n",
       "       'median_new_listing_ppsf_yoy', 'inventory', 'inventory_yoy',\n",
       "       'total_active_listings', 'total_active_listings_yoy', 'active_listings',\n",
       "       'active_listings_yoy', 'age_of_inventory', 'age_of_inventory_yoy',\n",
       "       'homes_delisted', 'homes_delisted_yoy',\n",
       "       'percent_active_listings_delisted',\n",
       "       'percent_active_listings_delisted_yoy', 'median_active_list_price',\n",
       "       'median_active_list_price_yoy', 'median_active_list_ppsf',\n",
       "       'median_active_list_ppsf_yoy', 'average_of_median_list_price_amount',\n",
       "       'average_of_median_list_price_amount_yoy',\n",
       "       'average_of_median_offer_price_amount',\n",
       "       'average_of_median_offer_price_amount_yoy', 'avg_offer_to_list',\n",
       "       'avg_offer_to_list_yoy', 'average_sale_to_list_ratio',\n",
       "       'average_sale_to_list_ratio_yoy', 'median_days_on_market',\n",
       "       'median_days_on_market_yoy', 'pending_sales_to_sales_ratio',\n",
       "       'pending_sales_to_sales_ratio_yoy', 'months_of_supply',\n",
       "       'months_of_supply_yoy', 'average_pending_sales_listing_updates',\n",
       "       'average_pending_sales_listing_updates_yoy',\n",
       "       'percent_total_price_drops_of_inventory',\n",
       "       'percent_total_price_drops_of_inventory_yoy',\n",
       "       'percent_homes_sold_above_list', 'percent_homes_sold_above_list_yoy',\n",
       "       'price_drop_percent_of_old_list_price',\n",
       "       'price_drop_percent_of_old_list_price_yoy', 'last_updated',\n",
       "       'average_adjustment_average_homes_delisted',\n",
       "       'adjusted_average_homes_delisted',\n",
       "       'average_adjustment_average_homes_sold', 'adjusted_average_homes_sold',\n",
       "       'average_adjustment_average_new_listings',\n",
       "       'adjusted_average_new_listings', 'average_adjustment_pending_sales',\n",
       "       'adjusted_pending_sales', 'adjusted_average_homes_delisted_yoy',\n",
       "       'adjusted_average_homes_sold_yoy', 'adjusted_average_new_listings_yoy',\n",
       "       'adjusted_pending_sales_yoy'],\n",
       "      dtype='object')"
      ]
     },
     "execution_count": 5,
     "metadata": {},
     "output_type": "execute_result"
    }
   ],
   "source": [
    "df.columns"
   ]
  },
  {
   "cell_type": "code",
   "execution_count": null,
   "metadata": {
    "id": "sBs3ZyiT8PNG"
   },
   "outputs": [],
   "source": []
  },
  {
   "cell_type": "code",
   "execution_count": 6,
   "metadata": {
    "colab": {
     "base_uri": "https://localhost:8080/"
    },
    "id": "giAslMaR8PNG",
    "outputId": "1f674b5b-cf93-422d-d281-0a058dba24ef"
   },
   "outputs": [
    {
     "name": "stdout",
     "output_type": "stream",
     "text": [
      "['total_homes_sold', 'average_homes_sold', 'total_homes_sold_with_price_drops', 'average_homes_sold_with_price_drops', 'percent_homes_sold_with_price_drops', 'median_sale_price', 'median_sale_ppsf', 'median_days_to_close', 'price_drops', 'percent_active_listings_with_price_drops', 'pending_sales', 'median_pending_sqft', 'off_market_in_two_weeks', 'off_market_in_one_week', 'percent_off_market_in_two_weeks', 'percent_off_market_in_one_week', 'total_new_listings', 'average_new_listings', 'median_new_listing_price', 'median_new_listing_ppsf', 'inventory', 'total_active_listings', 'active_listings', 'age_of_inventory', 'homes_delisted', 'percent_active_listings_delisted', 'median_active_list_price', 'median_active_list_ppsf', 'average_of_median_list_price_amount', 'average_of_median_offer_price_amount', 'avg_offer_to_list', 'average_sale_to_list_ratio', 'median_days_on_market', 'pending_sales_to_sales_ratio', 'months_of_supply', 'average_pending_sales_listing_updates', 'percent_total_price_drops_of_inventory', 'percent_homes_sold_above_list', 'price_drop_percent_of_old_list_price', 'adjusted_average_homes_delisted', 'adjusted_average_homes_sold', 'adjusted_average_new_listings', 'adjusted_pending_sales'] \n",
      "\n",
      "\n",
      " ['total_homes_sold_yoy', 'average_homes_sold_yoy', 'total_homes_sold_with_price_drops_yoy', 'average_homes_sold_with_price_drops_yoy', 'percent_homes_sold_with_price_drops_yoy', 'median_sale_price_yoy', 'median_sale_ppsf_yoy', 'median_days_to_close_yoy', 'price_drops_yoy', 'percent_active_listings_with_price_drops_yoy', 'pending_sales_yoy', 'median_pending_sqft_yoy', 'off_market_in_two_weeks_yoy', 'off_market_in_one_week_yoy', 'percent_off_market_in_two_weeks_yoy', 'percent_off_market_in_one_week_yoy', 'total_new_listings_yoy', 'average_new_listings_yoy', 'median_new_listing_price_yoy', 'median_new_listing_ppsf_yoy', 'inventory_yoy', 'total_active_listings_yoy', 'active_listings_yoy', 'age_of_inventory_yoy', 'homes_delisted_yoy', 'percent_active_listings_delisted_yoy', 'median_active_list_price_yoy', 'median_active_list_ppsf_yoy', 'average_of_median_list_price_amount_yoy', 'average_of_median_offer_price_amount_yoy', 'avg_offer_to_list_yoy', 'average_sale_to_list_ratio_yoy', 'median_days_on_market_yoy', 'pending_sales_to_sales_ratio_yoy', 'months_of_supply_yoy', 'average_pending_sales_listing_updates_yoy', 'percent_total_price_drops_of_inventory_yoy', 'percent_homes_sold_above_list_yoy', 'price_drop_percent_of_old_list_price_yoy', 'adjusted_average_homes_delisted_yoy', 'adjusted_average_homes_sold_yoy', 'adjusted_average_new_listings_yoy', 'adjusted_pending_sales_yoy']\n",
      "43 43\n"
     ]
    }
   ],
   "source": [
    "# normal_cols = [col for col in df.columns if 'yoy' not in col]\n",
    "\n",
    "yoy_cols =[col for col in df.columns if 'yoy' in col]\n",
    "normal_cols = [\"_\".join(col.split(\"_\")[:-1]) for col in yoy_cols]\n",
    "print(normal_cols, '\\n\\n\\n', yoy_cols)\n",
    "print(len(normal_cols), len(yoy_cols))"
   ]
  },
  {
   "cell_type": "code",
   "execution_count": 7,
   "metadata": {
    "colab": {
     "base_uri": "https://localhost:8080/"
    },
    "id": "rfWreBUB8PNH",
    "outputId": "e2613c6a-d143-4344-9f02-7b3812e41a36"
   },
   "outputs": [
    {
     "name": "stdout",
     "output_type": "stream",
     "text": [
      "-0.0012286237522855187 \n",
      "\n",
      "-0.002249685075674366 \n",
      "\n",
      "0.0016279300537330474 \n",
      "\n",
      "0.0034749770862449276 \n",
      "\n",
      "0.4225039379501371 \n",
      "\n",
      "-5.992889070628447e-05 \n",
      "\n",
      "0.04913143902995715 \n",
      "\n",
      "0.5373522416954619 \n",
      "\n",
      "0.006175581742568097 \n",
      "\n",
      "0.5546865241398601 \n",
      "\n",
      "-0.0025021712989465004 \n",
      "\n",
      "0.5240162117990009 \n",
      "\n",
      "0.0008459072386574157 \n",
      "\n",
      "0.004009523262576538 \n",
      "\n",
      "0.5058159096471108 \n",
      "\n",
      "0.5512695060162125 \n",
      "\n",
      "-0.00293436089226578 \n",
      "\n",
      "-0.003306720436200008 \n",
      "\n",
      "0.04512394601080073 \n",
      "\n",
      "0.28953202998461725 \n",
      "\n",
      "-0.004474179807703113 \n",
      "\n",
      "-0.00289833530875984 \n",
      "\n",
      "-0.004360965196918279 \n",
      "\n",
      "0.5144916404401255 \n",
      "\n",
      "0.0028787998934866996 \n",
      "\n",
      "0.34730857920901637 \n",
      "\n",
      "0.9726720173587928 \n",
      "\n",
      "0.9999999943221634 \n",
      "\n",
      "0.5024344699442227 \n",
      "\n",
      "0.0009782312062537408 \n",
      "\n",
      "0.6194109370178372 \n",
      "\n",
      "0.5717946827118446 \n",
      "\n",
      "0.5638567905659043 \n",
      "\n",
      "0.6619393754079643 \n",
      "\n",
      "0.11778235782197721 \n",
      "\n",
      "-0.00012205475886132901 \n",
      "\n",
      "0.3934609255128389 \n",
      "\n",
      "0.6357666048172946 \n",
      "\n",
      "0.5357805602657676 \n",
      "\n",
      "0.002866294738714698 \n",
      "\n",
      "-0.0022488064233566734 \n",
      "\n",
      "-0.0033052062671350257 \n",
      "\n",
      "-0.002500836910817074 \n",
      "\n"
     ]
    }
   ],
   "source": [
    "for n, y in zip(normal_cols, yoy_cols):\n",
    "    print(df[[n, y]].corr().values[0, 1], '\\n')\n",
    "#     print(np.corrcoef(df[n], df[y]))"
   ]
  },
  {
   "cell_type": "code",
   "execution_count": 8,
   "metadata": {
    "id": "XtWRR4wo8PNH"
   },
   "outputs": [],
   "source": [
    "# len(df.columns[df.isnull().sum() < 1000000])\n",
    "missing_cols = df.columns[df.isnull().sum() > 500000]"
   ]
  },
  {
   "cell_type": "code",
   "execution_count": 9,
   "metadata": {
    "colab": {
     "base_uri": "https://localhost:8080/"
    },
    "id": "GnfETqo_8PNI",
    "outputId": "a00ea48e-b5dc-4468-b13e-c4d9f94ea233"
   },
   "outputs": [
    {
     "name": "stdout",
     "output_type": "stream",
     "text": [
      "average_adjustment_average_homes_delisted\n",
      "average_adjustment_average_homes_sold\n",
      "average_adjustment_average_new_listings\n",
      "average_adjustment_pending_sales\n"
     ]
    }
   ],
   "source": [
    "for col in df.columns:\n",
    "    if 'adjustment' in col:\n",
    "        print(col)"
   ]
  },
  {
   "cell_type": "code",
   "execution_count": 10,
   "metadata": {
    "id": "Vwy-IiBL8PNI"
   },
   "outputs": [],
   "source": [
    "df1= df.drop(missing_cols,axis=1)"
   ]
  },
  {
   "cell_type": "code",
   "execution_count": 11,
   "metadata": {
    "colab": {
     "base_uri": "https://localhost:8080/"
    },
    "id": "ti2hDa-Q8PNJ",
    "outputId": "b7272e5b-7dee-4f9c-ae62-099ca4d2ccb1"
   },
   "outputs": [
    {
     "data": {
      "text/plain": [
       "(1945431, 62)"
      ]
     },
     "execution_count": 11,
     "metadata": {},
     "output_type": "execute_result"
    }
   ],
   "source": [
    "df1.shape"
   ]
  },
  {
   "cell_type": "code",
   "execution_count": 12,
   "metadata": {
    "colab": {
     "base_uri": "https://localhost:8080/"
    },
    "id": "OFm7gZZ48PNJ",
    "outputId": "c1c4c9db-4d16-4634-b830-50df2e3735bb"
   },
   "outputs": [
    {
     "data": {
      "text/plain": [
       "Index(['region_id', 'region_type_id', 'region_name', 'region_type',\n",
       "       'period_begin', 'period_end', 'duration', 'total_homes_sold',\n",
       "       'total_homes_sold_yoy', 'average_homes_sold', 'average_homes_sold_yoy',\n",
       "       'total_homes_sold_with_price_drops',\n",
       "       'average_homes_sold_with_price_drops',\n",
       "       'percent_homes_sold_with_price_drops',\n",
       "       'percent_homes_sold_with_price_drops_yoy', 'median_sale_price',\n",
       "       'median_sale_price_yoy', 'median_sale_ppsf', 'median_sale_ppsf_yoy',\n",
       "       'median_days_to_close', 'median_days_to_close_yoy', 'pending_sales',\n",
       "       'median_pending_sqft', 'off_market_in_two_weeks',\n",
       "       'off_market_in_one_week', 'percent_off_market_in_two_weeks',\n",
       "       'percent_off_market_in_one_week', 'total_new_listings',\n",
       "       'total_new_listings_yoy', 'average_new_listings',\n",
       "       'average_new_listings_yoy', 'median_new_listing_price',\n",
       "       'median_new_listing_price_yoy', 'median_new_listing_ppsf',\n",
       "       'median_new_listing_ppsf_yoy', 'inventory', 'inventory_yoy',\n",
       "       'total_active_listings', 'total_active_listings_yoy', 'active_listings',\n",
       "       'active_listings_yoy', 'age_of_inventory', 'age_of_inventory_yoy',\n",
       "       'median_active_list_price', 'median_active_list_price_yoy',\n",
       "       'median_active_list_ppsf', 'median_active_list_ppsf_yoy',\n",
       "       'average_sale_to_list_ratio', 'average_sale_to_list_ratio_yoy',\n",
       "       'median_days_on_market', 'median_days_on_market_yoy',\n",
       "       'pending_sales_to_sales_ratio', 'months_of_supply',\n",
       "       'months_of_supply_yoy', 'percent_homes_sold_above_list',\n",
       "       'percent_homes_sold_above_list_yoy', 'last_updated',\n",
       "       'adjusted_average_homes_sold', 'adjusted_average_new_listings',\n",
       "       'adjusted_pending_sales', 'adjusted_average_homes_sold_yoy',\n",
       "       'adjusted_average_new_listings_yoy'],\n",
       "      dtype='object')"
      ]
     },
     "execution_count": 12,
     "metadata": {},
     "output_type": "execute_result"
    }
   ],
   "source": [
    "df1.columns"
   ]
  },
  {
   "cell_type": "code",
   "execution_count": 13,
   "metadata": {
    "colab": {
     "base_uri": "https://localhost:8080/"
    },
    "id": "VzyzrM-w8PNK",
    "outputId": "6120cf41-b0eb-4cfa-9828-8b639ae5ce73"
   },
   "outputs": [
    {
     "name": "stdout",
     "output_type": "stream",
     "text": [
      "<class 'pandas.core.frame.DataFrame'>\n",
      "RangeIndex: 1945431 entries, 0 to 1945430\n",
      "Data columns (total 62 columns):\n",
      " #   Column                                   Dtype  \n",
      "---  ------                                   -----  \n",
      " 0   region_id                                int64  \n",
      " 1   region_type_id                           int64  \n",
      " 2   region_name                              object \n",
      " 3   region_type                              object \n",
      " 4   period_begin                             object \n",
      " 5   period_end                               object \n",
      " 6   duration                                 object \n",
      " 7   total_homes_sold                         float64\n",
      " 8   total_homes_sold_yoy                     float64\n",
      " 9   average_homes_sold                       float64\n",
      " 10  average_homes_sold_yoy                   float64\n",
      " 11  total_homes_sold_with_price_drops        float64\n",
      " 12  average_homes_sold_with_price_drops      float64\n",
      " 13  percent_homes_sold_with_price_drops      float64\n",
      " 14  percent_homes_sold_with_price_drops_yoy  float64\n",
      " 15  median_sale_price                        float64\n",
      " 16  median_sale_price_yoy                    float64\n",
      " 17  median_sale_ppsf                         float64\n",
      " 18  median_sale_ppsf_yoy                     float64\n",
      " 19  median_days_to_close                     float64\n",
      " 20  median_days_to_close_yoy                 float64\n",
      " 21  pending_sales                            float64\n",
      " 22  median_pending_sqft                      float64\n",
      " 23  off_market_in_two_weeks                  float64\n",
      " 24  off_market_in_one_week                   float64\n",
      " 25  percent_off_market_in_two_weeks          float64\n",
      " 26  percent_off_market_in_one_week           float64\n",
      " 27  total_new_listings                       float64\n",
      " 28  total_new_listings_yoy                   float64\n",
      " 29  average_new_listings                     float64\n",
      " 30  average_new_listings_yoy                 float64\n",
      " 31  median_new_listing_price                 float64\n",
      " 32  median_new_listing_price_yoy             float64\n",
      " 33  median_new_listing_ppsf                  float64\n",
      " 34  median_new_listing_ppsf_yoy              float64\n",
      " 35  inventory                                float64\n",
      " 36  inventory_yoy                            float64\n",
      " 37  total_active_listings                    float64\n",
      " 38  total_active_listings_yoy                float64\n",
      " 39  active_listings                          float64\n",
      " 40  active_listings_yoy                      float64\n",
      " 41  age_of_inventory                         float64\n",
      " 42  age_of_inventory_yoy                     float64\n",
      " 43  median_active_list_price                 float64\n",
      " 44  median_active_list_price_yoy             float64\n",
      " 45  median_active_list_ppsf                  float64\n",
      " 46  median_active_list_ppsf_yoy              float64\n",
      " 47  average_sale_to_list_ratio               float64\n",
      " 48  average_sale_to_list_ratio_yoy           float64\n",
      " 49  median_days_on_market                    float64\n",
      " 50  median_days_on_market_yoy                float64\n",
      " 51  pending_sales_to_sales_ratio             float64\n",
      " 52  months_of_supply                         float64\n",
      " 53  months_of_supply_yoy                     float64\n",
      " 54  percent_homes_sold_above_list            float64\n",
      " 55  percent_homes_sold_above_list_yoy        float64\n",
      " 56  last_updated                             object \n",
      " 57  adjusted_average_homes_sold              float64\n",
      " 58  adjusted_average_new_listings            float64\n",
      " 59  adjusted_pending_sales                   float64\n",
      " 60  adjusted_average_homes_sold_yoy          float64\n",
      " 61  adjusted_average_new_listings_yoy        float64\n",
      "dtypes: float64(54), int64(2), object(6)\n",
      "memory usage: 920.2+ MB\n"
     ]
    }
   ],
   "source": [
    "df1.info()"
   ]
  },
  {
   "cell_type": "code",
   "execution_count": 15,
   "metadata": {
    "id": "P1Wa2Uby8PNL"
   },
   "outputs": [],
   "source": [
    "df2 = df1.dropna()"
   ]
  },
  {
   "cell_type": "code",
   "execution_count": null,
   "metadata": {
    "id": "Dhnlz9JP8PNL"
   },
   "outputs": [],
   "source": [
    "df2.to_csv('final.csv')"
   ]
  },
  {
   "cell_type": "code",
   "execution_count": null,
   "metadata": {},
   "outputs": [],
   "source": []
  }
 ],
 "metadata": {
  "colab": {
   "name": "Zerodown-3.ipynb",
   "provenance": []
  },
  "kernelspec": {
   "display_name": "Python 3",
   "language": "python",
   "name": "python3"
  },
  "language_info": {
   "codemirror_mode": {
    "name": "ipython",
    "version": 3
   },
   "file_extension": ".py",
   "mimetype": "text/x-python",
   "name": "python",
   "nbconvert_exporter": "python",
   "pygments_lexer": "ipython3",
   "version": "3.8.8"
  }
 },
 "nbformat": 4,
 "nbformat_minor": 1
}
